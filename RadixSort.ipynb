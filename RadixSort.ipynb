{
 "cells": [
  {
   "cell_type": "code",
   "execution_count": 1,
   "metadata": {},
   "outputs": [
    {
     "name": "stdout",
     "output_type": "stream",
     "text": [
      "[195, 561, 740, 856, 490, 510, 237, 805, 493, 58]\n"
     ]
    }
   ],
   "source": [
    "import random\n",
    "\n",
    "random_array = random.sample(range(0,1000), 10)\n",
    "\n",
    "print(random_array)"
   ]
  },
  {
   "cell_type": "code",
   "execution_count": 2,
   "metadata": {},
   "outputs": [],
   "source": [
    "radix_array = [[], [], [], [], [], [], [], [], [], []]\n",
    "max_value = max(random_array)\n",
    "exp = 1"
   ]
  },
  {
   "cell_type": "code",
   "execution_count": 3,
   "metadata": {},
   "outputs": [
    {
     "name": "stdout",
     "output_type": "stream",
     "text": [
      "Radix:  [[510, 490, 740], [561], [], [493], [], [805, 195], [856], [237], [58], []]\n",
      "Sorting:  [740, 490, 510, 561, 493, 195, 805, 856, 237, 58]\n",
      "Radix:  [[805], [510], [], [237], [740], [58, 856], [561], [], [], [195, 493, 490]]\n",
      "Sorting:  [805, 510, 237, 740, 856, 58, 561, 490, 493, 195]\n",
      "Radix:  [[58], [195], [237], [], [493, 490], [561, 510], [], [740], [856, 805], []]\n",
      "Sorting:  [58, 195, 237, 490, 493, 510, 561, 740, 805, 856]\n",
      "Sorted Array:  [58, 195, 237, 490, 493, 510, 561, 740, 805, 856]\n"
     ]
    }
   ],
   "source": [
    "while max_value // exp > 0:\n",
    "    while random_array:\n",
    "       value = random_array.pop()\n",
    "       radix_Index = (value // exp) % 10\n",
    "       radix_array[radix_Index].append(value)\n",
    "    print(\"Radix: \", radix_array)\n",
    "\n",
    "    for bucket in radix_array:\n",
    "        while bucket:\n",
    "            val = bucket.pop()\n",
    "            random_array.append(val)\n",
    "    print(\"Sorting: \", random_array)\n",
    "    \n",
    "    exp *= 10\n",
    "\n",
    "print(\"Sorted Array: \", random_array)"
   ]
  },
  {
   "cell_type": "markdown",
   "metadata": {},
   "source": [
    "Radix Sort with other Sorted Algorithm"
   ]
  },
  {
   "cell_type": "code",
   "execution_count": 4,
   "metadata": {},
   "outputs": [
    {
     "name": "stdout",
     "output_type": "stream",
     "text": [
      "[709, 974, 74, 732, 592, 557, 222, 841, 748, 278]\n"
     ]
    }
   ],
   "source": [
    "random_array = random.sample(range(0,1000), 10)\n",
    "\n",
    "print(random_array)"
   ]
  },
  {
   "cell_type": "code",
   "execution_count": 5,
   "metadata": {},
   "outputs": [
    {
     "name": "stdout",
     "output_type": "stream",
     "text": [
      "Radix Array:  [[], [841], [732, 592, 222], [], [974, 74], [], [], [557], [748, 278], [709]]\n",
      "Sorted Radix:  [[], [841], [592, 222, 732], [], [74, 974], [], [], [557], [278, 748], [709]]\n",
      "sorting:  [841, 592, 222, 732, 74, 974, 557, 278, 748, 709]\n",
      "Radix Array:  [[709], [], [222], [732], [841, 748], [557], [], [74, 974, 278], [], [592]]\n",
      "Sorted Radix:  [[709], [], [222], [732], [748, 841], [557], [], [74, 278, 974], [], [592]]\n",
      "sorting:  [709, 222, 732, 748, 841, 557, 74, 278, 974, 592]\n",
      "Radix Array:  [[74], [], [222, 278], [], [], [557, 592], [], [709, 732, 748], [841], [974]]\n",
      "Sorted Radix:  [[74], [], [222, 278], [], [], [557, 592], [], [709, 732, 748], [841], [974]]\n",
      "sorting:  [74, 222, 278, 557, 592, 709, 732, 748, 841, 974]\n",
      "Sorted Array:  [74, 222, 278, 557, 592, 709, 732, 748, 841, 974]\n"
     ]
    }
   ],
   "source": [
    "def BubbleSort(array):\n",
    "    for i in range(len(array) - 1):\n",
    "        Swapped = False\n",
    "        for j in range(len(array) - i - 1):\n",
    "            if array[j] > array[j + 1]:\n",
    "                array[j], array[j + 1] = array[j + 1], array[j]\n",
    "            Swapped = True\n",
    "        \n",
    "        if Swapped:\n",
    "            break\n",
    "    \n",
    "    return array\n",
    "\n",
    "def RadixSortwithBubbleSort(array):\n",
    "    max_value = max(array)\n",
    "    exp = 1\n",
    "\n",
    "    while max_value // exp > 0:\n",
    "        radixArray = [[], [], [], [], [], [], [], [], [], []]\n",
    "\n",
    "        for num in array:\n",
    "            radixIndex = (num // exp) % 10\n",
    "            radixArray[radixIndex].append(num)\n",
    "        print(\"Radix Array: \", radixArray)\n",
    "        \n",
    "        for bucket in radixArray:\n",
    "            BubbleSort(bucket)\n",
    "        print(\"Sorted Radix: \", radixArray)\n",
    "        \n",
    "        i = 0\n",
    "        for bucket in radixArray:\n",
    "            for num in bucket:\n",
    "                array[i] = num\n",
    "                i += 1\n",
    "        print(\"sorting: \", array)\n",
    "        exp *= 10\n",
    "\n",
    "RadixSortwithBubbleSort(random_array)\n",
    "print(\"Sorted Array: \", random_array)\n"
   ]
  }
 ],
 "metadata": {
  "kernelspec": {
   "display_name": "Python 3",
   "language": "python",
   "name": "python3"
  },
  "language_info": {
   "codemirror_mode": {
    "name": "ipython",
    "version": 3
   },
   "file_extension": ".py",
   "mimetype": "text/x-python",
   "name": "python",
   "nbconvert_exporter": "python",
   "pygments_lexer": "ipython3",
   "version": "3.11.7"
  }
 },
 "nbformat": 4,
 "nbformat_minor": 2
}
