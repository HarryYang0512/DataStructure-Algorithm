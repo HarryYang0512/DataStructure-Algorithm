{
 "cells": [
  {
   "cell_type": "code",
   "execution_count": 23,
   "metadata": {},
   "outputs": [
    {
     "name": "stdout",
     "output_type": "stream",
     "text": [
      "[19, 49, 69, 16, 73, 57]\n"
     ]
    }
   ],
   "source": [
    "import random\n",
    "\n",
    "randomArray = random.sample(range(0, 100), 6)\n",
    "\n",
    "print(randomArray)"
   ]
  },
  {
   "cell_type": "code",
   "execution_count": 24,
   "metadata": {},
   "outputs": [],
   "source": [
    "def mergeSort(array):\n",
    "    if len(array) <= 1:\n",
    "        return array\n",
    "\n",
    "    mid = len(array) // 2\n",
    "    leftHalf = array[:mid]\n",
    "    rightHalf = array[mid:]\n",
    "    print(\"Left Half: \", leftHalf)\n",
    "    print(\"Right Half: \", rightHalf)\n",
    "\n",
    "    sortedLeft = mergeSort(leftHalf)\n",
    "    sortedRight = mergeSort(rightHalf)\n",
    "    print(\"Sorted Left: \", sortedLeft)\n",
    "    print(\"Sorted Right: \", sortedRight)\n",
    "\n",
    "    return merge(sortedLeft, sortedRight)\n",
    "\n",
    "def merge(left, right):\n",
    "    result = []\n",
    "    i = j = 0\n",
    "\n",
    "    while i < len(left) and j < len(right):\n",
    "        if left[i] < right[j]:\n",
    "            result.append(left[i])\n",
    "            i += 1\n",
    "        else:\n",
    "            result.append(right[j])\n",
    "            j += 1\n",
    "        print(\"Sorting Result\", result)\n",
    "    \n",
    "    result.extend(left[i:])\n",
    "    result.extend(right[j:])\n",
    "    print(\"Sorted Result: \", result)\n",
    "    return result"
   ]
  },
  {
   "cell_type": "code",
   "execution_count": 25,
   "metadata": {},
   "outputs": [
    {
     "name": "stdout",
     "output_type": "stream",
     "text": [
      "Left Half:  [19, 49, 69]\n",
      "Right Half:  [16, 73, 57]\n",
      "Left Half:  [19]\n",
      "Right Half:  [49, 69]\n",
      "Left Half:  [49]\n",
      "Right Half:  [69]\n",
      "Sorted Left:  [49]\n",
      "Sorted Right:  [69]\n",
      "Sorting Result [49]\n",
      "Sorted Result:  [49, 69]\n",
      "Sorted Left:  [19]\n",
      "Sorted Right:  [49, 69]\n",
      "Sorting Result [19]\n",
      "Sorted Result:  [19, 49, 69]\n",
      "Left Half:  [16]\n",
      "Right Half:  [73, 57]\n",
      "Left Half:  [73]\n",
      "Right Half:  [57]\n",
      "Sorted Left:  [73]\n",
      "Sorted Right:  [57]\n",
      "Sorting Result [57]\n",
      "Sorted Result:  [57, 73]\n",
      "Sorted Left:  [16]\n",
      "Sorted Right:  [57, 73]\n",
      "Sorting Result [16]\n",
      "Sorted Result:  [16, 57, 73]\n",
      "Sorted Left:  [19, 49, 69]\n",
      "Sorted Right:  [16, 57, 73]\n",
      "Sorting Result [16]\n",
      "Sorting Result [16, 19]\n",
      "Sorting Result [16, 19, 49]\n",
      "Sorting Result [16, 19, 49, 57]\n",
      "Sorting Result [16, 19, 49, 57, 69]\n",
      "Sorted Result:  [16, 19, 49, 57, 69, 73]\n",
      "Sorted Array:  [16, 19, 49, 57, 69, 73]\n"
     ]
    }
   ],
   "source": [
    "sortedArray = mergeSort(randomArray)\n",
    "print(\"Sorted Array: \", sortedArray)"
   ]
  },
  {
   "cell_type": "markdown",
   "metadata": {},
   "source": [
    "Merge Sort without Recursion"
   ]
  },
  {
   "cell_type": "code",
   "execution_count": 26,
   "metadata": {},
   "outputs": [
    {
     "name": "stdout",
     "output_type": "stream",
     "text": [
      "[62, 25, 58, 11, 14, 20]\n"
     ]
    }
   ],
   "source": [
    "randomArray = random.sample(range(0, 100), 6)\n",
    "\n",
    "print(randomArray)"
   ]
  },
  {
   "cell_type": "code",
   "execution_count": 27,
   "metadata": {},
   "outputs": [],
   "source": [
    "def mergeSortNorecursion(array):\n",
    "    step = 1\n",
    "    length = len(array)\n",
    "\n",
    "    while step < length:\n",
    "        for i in range(0, length, 2 * step):\n",
    "            left = array[i:i + step]\n",
    "            right = array[i + step:i + 2 * step]\n",
    "\n",
    "            merged = merge(left, right)\n",
    "            print(\"Merged: \", merged)\n",
    "\n",
    "            for j, val in enumerate(merged):\n",
    "                array[i + j] = val\n",
    "            print(\"Sorting: \", array)\n",
    "        step *= 2\n",
    "\n",
    "    return array"
   ]
  },
  {
   "cell_type": "code",
   "execution_count": 28,
   "metadata": {},
   "outputs": [
    {
     "name": "stdout",
     "output_type": "stream",
     "text": [
      "Sorting Result [25]\n",
      "Sorted Result:  [25, 62]\n",
      "Merged:  [25, 62]\n",
      "Sorting:  [25, 62, 58, 11, 14, 20]\n",
      "Sorting Result [11]\n",
      "Sorted Result:  [11, 58]\n",
      "Merged:  [11, 58]\n",
      "Sorting:  [25, 62, 11, 58, 14, 20]\n",
      "Sorting Result [14]\n",
      "Sorted Result:  [14, 20]\n",
      "Merged:  [14, 20]\n",
      "Sorting:  [25, 62, 11, 58, 14, 20]\n",
      "Sorting Result [11]\n",
      "Sorting Result [11, 25]\n",
      "Sorting Result [11, 25, 58]\n",
      "Sorted Result:  [11, 25, 58, 62]\n",
      "Merged:  [11, 25, 58, 62]\n",
      "Sorting:  [11, 25, 58, 62, 14, 20]\n",
      "Sorted Result:  [14, 20]\n",
      "Merged:  [14, 20]\n",
      "Sorting:  [11, 25, 58, 62, 14, 20]\n",
      "Sorting Result [11]\n",
      "Sorting Result [11, 14]\n",
      "Sorting Result [11, 14, 20]\n",
      "Sorted Result:  [11, 14, 20, 25, 58, 62]\n",
      "Merged:  [11, 14, 20, 25, 58, 62]\n",
      "Sorting:  [11, 14, 20, 25, 58, 62]\n",
      "Sorted Array:  [11, 14, 20, 25, 58, 62]\n"
     ]
    }
   ],
   "source": [
    "sortedArray = mergeSortNorecursion(randomArray)\n",
    "print(\"Sorted Array: \", sortedArray)"
   ]
  }
 ],
 "metadata": {
  "kernelspec": {
   "display_name": "Python 3",
   "language": "python",
   "name": "python3"
  },
  "language_info": {
   "codemirror_mode": {
    "name": "ipython",
    "version": 3
   },
   "file_extension": ".py",
   "mimetype": "text/x-python",
   "name": "python",
   "nbconvert_exporter": "python",
   "pygments_lexer": "ipython3",
   "version": "3.11.7"
  }
 },
 "nbformat": 4,
 "nbformat_minor": 2
}
