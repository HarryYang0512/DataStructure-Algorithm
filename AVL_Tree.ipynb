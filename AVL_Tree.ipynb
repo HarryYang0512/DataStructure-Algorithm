{
 "cells": [
  {
   "cell_type": "markdown",
   "metadata": {},
   "source": [
    "# AVL Tree\n",
    "A type of Binary Search Tree named after two Soviet inventors Georgy Adelson-Velsky and Evgenii Landis.\n",
    "\n",
    "The only difference between a regular Binary Search Tree and an AVL Tree is that AVL Trees do rotation operations in addition, to keep the tree balance."
   ]
  },
  {
   "cell_type": "markdown",
   "metadata": {},
   "source": [
    "The Balance Factor (BF) for a node (X) is the difference in height between its right and left subtrees.\n",
    "\n",
    "$BF(X) = height(rightSubtree(X)) - height(leftSubtree(X))$\n",
    "\n",
    "* 0: The node is in balance.\n",
    "* more than 0: The node is \"right heavy\".\n",
    "* less than 0: The node is \"left heavy\".\n",
    "\n",
    "If the balance factor is less than -1, or more than 1, for one or more nodes in the tree, the tree is considered not in balance, and a rotation operation is needed to restore balance."
   ]
  },
  {
   "cell_type": "markdown",
   "metadata": {},
   "source": [
    "## The Four \"Out-Of-Balance\" Cases"
   ]
  },
  {
   "cell_type": "markdown",
   "metadata": {},
   "source": [
    "| Case | Description | Rotation To Restrore Balance |\n",
    "|:---------:|:--------:|:---------:|\n",
    "|  Left-Left (LL)   | The unbalanced node and its left child node are both left-heavy.   |  A single right rotation.   |\n",
    "|  Right-Right (RR)   | The unbalanced node and its right child node are both right-heavy.   |  A single left rotation.   |\n",
    "| Left-Right (LR)   | The unbalanced node is left heavy, and its left child node is right heavy.   | First do a left rotation on the left child node, then do a right rotation on the unbalanced node.   |\n",
    "| Right-Left (RL)   | The unbalanced node is right heavy, and its right child node is left heavy.  | First do a right rotation on the right child node, then do a left rotation on the unbalanced node.   |"
   ]
  },
  {
   "cell_type": "markdown",
   "metadata": {},
   "source": [
    "### *AVL Insert Node Implementation*"
   ]
  },
  {
   "cell_type": "code",
   "execution_count": 31,
   "metadata": {},
   "outputs": [],
   "source": [
    "class TreeNode:\n",
    "    def __init__(self, data):\n",
    "        self.data = data\n",
    "        self.left = None\n",
    "        self.right = None\n",
    "        self.height = 1\n",
    "\n",
    "def getHeight(node):\n",
    "    if not node:\n",
    "        return 0\n",
    "    return node.height\n",
    "\n",
    "def getBalance(node):\n",
    "    if not node:\n",
    "        return 0\n",
    "    return getHeight(node.left) - getHeight(node.right)\n",
    "\n",
    "def rightRotate(y):\n",
    "    print('Rotate right on node', y.data)\n",
    "    x = y.left\n",
    "    T2 = x.right\n",
    "    x.right = y\n",
    "    y.left = T2\n",
    "    y.height = 1 + max(getHeight(y.left), getHeight(y.right))\n",
    "    x.height = 1 + max(getHeight(x.left), getHeight(x.right))\n",
    "\n",
    "    return x\n",
    "\n",
    "def leftRotate(x):\n",
    "    print('Rotat left on node', x.data)\n",
    "    y = x.right\n",
    "    T2 = y.left\n",
    "    y.left = x\n",
    "    x.right = T2\n",
    "    x.height = 1 + max(getHeight(x.left), getHeight(x.right))\n",
    "    y.height = 1 + max(getHeight(y.left), getHeight(y.right))\n",
    "\n",
    "    return y\n",
    "\n",
    "def insert(node, data):\n",
    "    if not node:\n",
    "        return TreeNode(data)\n",
    "    \n",
    "    if data < node.data:\n",
    "        node.left = insert(node.left, data)\n",
    "    elif data > node.data:\n",
    "        node.right = insert(node.right, data)\n",
    "\n",
    "    # Update the balance factor and balance the tree\n",
    "    node.height = 1 + max(getHeight(node.left), getHeight(node.right))\n",
    "    balance = getBalance(node)\n",
    "\n",
    "    # Balancing the tree\n",
    "    # Left Left\n",
    "    if balance > 1 and getBalance(node.left) >= 0:\n",
    "        return rightRotate(node)\n",
    "\n",
    "    # Left Right\n",
    "    if balance > 1 and getBalance(node.left) < 0:\n",
    "        node.left = leftRotate(node.left)\n",
    "        return rightRotate(node)\n",
    "\n",
    "    # Right Right\n",
    "    if balance < -1 and getBalance(node.right) <= 0:\n",
    "        return leftRotate(node)\n",
    "\n",
    "    # Right Left\n",
    "    if balance < -1 and getBalance(node.right) > 0:\n",
    "        node.right = rightRotate(node.right)\n",
    "        return leftRotate(node)\n",
    "    \n",
    "    return node\n",
    "\n",
    "def inOrderTraversal(node):\n",
    "    if node is None:\n",
    "        return\n",
    "    inOrderTraversal(node.left)\n",
    "    print(node.data, end=\", \")\n",
    "    inOrderTraversal(node.right)"
   ]
  },
  {
   "cell_type": "code",
   "execution_count": 32,
   "metadata": {},
   "outputs": [
    {
     "name": "stdout",
     "output_type": "stream",
     "text": [
      "Rotate right on node H\n",
      "A, B, C, D, E, F, G, H, "
     ]
    }
   ],
   "source": [
    "# Inserting nodes\n",
    "root = None\n",
    "letters = ['C', 'B', 'E', 'A', 'D', 'H', 'G', 'F']\n",
    "for letter in letters:\n",
    "    root = insert(root, letter)\n",
    "\n",
    "inOrderTraversal(root)"
   ]
  },
  {
   "cell_type": "markdown",
   "metadata": {},
   "source": [
    "### *AVL Delete Node Implementation*"
   ]
  },
  {
   "cell_type": "code",
   "execution_count": 33,
   "metadata": {},
   "outputs": [],
   "source": [
    "def minValueNode(node):\n",
    "    current = node\n",
    "    while current.left is not None:\n",
    "        current = current.left\n",
    "    return current\n",
    "\n",
    "def delete(node, data):\n",
    "    if not node:\n",
    "        return node\n",
    "    \n",
    "    if data < node.data:\n",
    "        node.left = delete(node.left, data)\n",
    "    elif data > node.data:\n",
    "        node.right = delete(node.right, data)\n",
    "    else:\n",
    "        if node.left is None:\n",
    "            temp = node.right\n",
    "            node = None\n",
    "            return temp\n",
    "        elif node.right is None:\n",
    "            temp = node.left\n",
    "            node = None\n",
    "            return temp\n",
    "\n",
    "        temp = minValueNode(node.right)\n",
    "        node.data = temp.data\n",
    "        node.right = delete(node.right, temp.data)\n",
    "    \n",
    "    if node is None:\n",
    "        return node\n",
    "    \n",
    "    # Update the balance factor and balance the tree\n",
    "    node.height = 1 + max(getHeight(node.left), getHeight(node.right))\n",
    "    balance = getBalance(node)\n",
    "\n",
    "    # Balancing the tree\n",
    "    # Left Left\n",
    "    if balance > 1 and getBalance(node.left) >= 0:\n",
    "        return rightRotate(node)\n",
    "\n",
    "    # Left Right\n",
    "    if balance > 1 and getBalance(node.left) < 0:\n",
    "        node.left = leftRotate(node.left)\n",
    "        return rightRotate(node)\n",
    "\n",
    "    # Right Right\n",
    "    if balance < -1 and getBalance(node.right) <= 0:\n",
    "        return leftRotate(node)\n",
    "\n",
    "    # Right Left\n",
    "    if balance < -1 and getBalance(node.right) > 0:\n",
    "        node.right = rightRotate(node.right)\n",
    "        return leftRotate(node)\n",
    "    \n",
    "    return node"
   ]
  },
  {
   "cell_type": "code",
   "execution_count": 34,
   "metadata": {},
   "outputs": [
    {
     "name": "stdout",
     "output_type": "stream",
     "text": [
      "\n",
      "Deleting A\n",
      "Rotat left on node C\n",
      "B, C, D, E, F, G, H, "
     ]
    }
   ],
   "source": [
    "print('\\nDeleting A')\n",
    "root = delete(root,'A')\n",
    "inOrderTraversal(root)"
   ]
  }
 ],
 "metadata": {
  "kernelspec": {
   "display_name": "Python 3",
   "language": "python",
   "name": "python3"
  },
  "language_info": {
   "codemirror_mode": {
    "name": "ipython",
    "version": 3
   },
   "file_extension": ".py",
   "mimetype": "text/x-python",
   "name": "python",
   "nbconvert_exporter": "python",
   "pygments_lexer": "ipython3",
   "version": "3.11.7"
  }
 },
 "nbformat": 4,
 "nbformat_minor": 2
}
