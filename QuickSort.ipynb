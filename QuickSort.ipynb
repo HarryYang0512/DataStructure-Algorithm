{
 "cells": [
  {
   "cell_type": "code",
   "execution_count": 27,
   "metadata": {},
   "outputs": [
    {
     "name": "stdout",
     "output_type": "stream",
     "text": [
      "[61, 49, 39, 40, 41, 9, 53, 74, 4, 23]\n"
     ]
    }
   ],
   "source": [
    "import random\n",
    "\n",
    "random_array = random.sample(range(1, 100), 10)\n",
    "\n",
    "print(random_array)"
   ]
  },
  {
   "cell_type": "code",
   "execution_count": 28,
   "metadata": {},
   "outputs": [
    {
     "name": "stdout",
     "output_type": "stream",
     "text": [
      "Sort:  [9, 49, 39, 40, 41, 61, 53, 74, 4, 23]\n",
      "Sort:  [9, 4, 39, 40, 41, 61, 53, 74, 49, 23]\n",
      "Switch:  [9, 4, 23, 40, 41, 61, 53, 74, 49, 39]\n",
      "Switch:  [4, 9, 23, 40, 41, 61, 53, 74, 49, 39]\n",
      "Switch:  [4, 9, 23, 39, 41, 61, 53, 74, 49, 40]\n",
      "Switch:  [4, 9, 23, 39, 40, 61, 53, 74, 49, 41]\n",
      "Switch:  [4, 9, 23, 39, 40, 41, 53, 74, 49, 61]\n",
      "Sort:  [4, 9, 23, 39, 40, 41, 53, 74, 49, 61]\n",
      "Sort:  [4, 9, 23, 39, 40, 41, 53, 49, 74, 61]\n",
      "Switch:  [4, 9, 23, 39, 40, 41, 53, 49, 61, 74]\n",
      "Switch:  [4, 9, 23, 39, 40, 41, 49, 53, 61, 74]\n",
      "Sorted Array:  [4, 9, 23, 39, 40, 41, 49, 53, 61, 74]\n"
     ]
    }
   ],
   "source": [
    "def partition(array, low, high):\n",
    "    pivot = array[high]\n",
    "    i = low - 1\n",
    "\n",
    "    for j in range(low, high):\n",
    "        if array[j] <= pivot:\n",
    "            i += 1\n",
    "            array[i], array[j] = array[j], array[i]\n",
    "            print(\"Sort: \", array)\n",
    "    \n",
    "    array[i + 1], array[high] = array[high], array[i + 1]\n",
    "    print(\"Switch: \", array)\n",
    "    return i + 1\n",
    "\n",
    "def quicksort(array, low = 0, high = None):\n",
    "    if high is None:\n",
    "        high = len(array) - 1\n",
    "    \n",
    "    if low < high:\n",
    "        pivot_index = partition(array, low ,high)\n",
    "        quicksort(array, low, pivot_index - 1)\n",
    "        quicksort(array, pivot_index + 1, high)\n",
    "\n",
    "quicksort(random_array)\n",
    "print(\"Sorted Array: \", random_array)"
   ]
  }
 ],
 "metadata": {
  "kernelspec": {
   "display_name": "Python 3",
   "language": "python",
   "name": "python3"
  },
  "language_info": {
   "codemirror_mode": {
    "name": "ipython",
    "version": 3
   },
   "file_extension": ".py",
   "mimetype": "text/x-python",
   "name": "python",
   "nbconvert_exporter": "python",
   "pygments_lexer": "ipython3",
   "version": "3.11.7"
  }
 },
 "nbformat": 4,
 "nbformat_minor": 2
}
