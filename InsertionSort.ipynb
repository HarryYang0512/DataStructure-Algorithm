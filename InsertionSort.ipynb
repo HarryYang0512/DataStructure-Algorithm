{
 "cells": [
  {
   "cell_type": "code",
   "execution_count": 28,
   "metadata": {},
   "outputs": [
    {
     "name": "stdout",
     "output_type": "stream",
     "text": [
      "[15, 10, 14, 19, 2, 3]\n"
     ]
    }
   ],
   "source": [
    "import random\n",
    "\n",
    "random_array = []\n",
    "\n",
    "for i in range(6):\n",
    "    value = random.randint(1, 20)\n",
    "    random_array.append(value)\n",
    "\n",
    "print(random_array)"
   ]
  },
  {
   "cell_type": "code",
   "execution_count": 29,
   "metadata": {},
   "outputs": [
    {
     "name": "stdout",
     "output_type": "stream",
     "text": [
      "Step 1 : [10, 15, 14, 19, 2, 3]\n",
      "Step 2 : [10, 14, 15, 19, 2, 3]\n",
      "Step 3 : [10, 14, 15, 19, 2, 3]\n",
      "Step 4 : [2, 10, 14, 15, 19, 3]\n",
      "Step 5 : [2, 3, 10, 14, 15, 19]\n",
      "Sorted Array:  [2, 3, 10, 14, 15, 19]\n"
     ]
    }
   ],
   "source": [
    "n = len(random_array)\n",
    "\n",
    "for i in range(1, n):\n",
    "    insert_index = i\n",
    "    current_value = random_array.pop(i)\n",
    "\n",
    "    for j in range(i - 1, -1, -1):\n",
    "        if random_array[j] > current_value:\n",
    "            insert_index = j\n",
    "    random_array.insert(insert_index, current_value)\n",
    "    print(f\"Step {i} :\", random_array)\n",
    "\n",
    "print(\"Sorted Array: \", random_array)"
   ]
  },
  {
   "cell_type": "markdown",
   "metadata": {},
   "source": [
    "Improvement of the Insertion Sort : Shifhting"
   ]
  },
  {
   "cell_type": "code",
   "execution_count": 30,
   "metadata": {},
   "outputs": [
    {
     "name": "stdout",
     "output_type": "stream",
     "text": [
      "[9, 7, 11, 19, 9, 9]\n"
     ]
    }
   ],
   "source": [
    "random_array = []\n",
    "\n",
    "for i in range(6):\n",
    "    value = random.randint(1, 20)\n",
    "    random_array.append(value)\n",
    "\n",
    "print(random_array)"
   ]
  },
  {
   "cell_type": "code",
   "execution_count": 31,
   "metadata": {},
   "outputs": [
    {
     "name": "stdout",
     "output_type": "stream",
     "text": [
      "Step 1 : [7, 9, 11, 19, 9, 9]\n",
      "Step 2 : [7, 9, 11, 19, 9, 9]\n",
      "Step 3 : [7, 9, 11, 19, 9, 9]\n",
      "Step 4 : [7, 9, 9, 11, 19, 9]\n",
      "Step 5 : [7, 9, 9, 9, 11, 19]\n",
      "Sorted Array:  [7, 9, 9, 9, 11, 19]\n"
     ]
    }
   ],
   "source": [
    "for i in range(1, n):\n",
    "    insert_index = i\n",
    "    current_value = random_array[i]\n",
    "\n",
    "    for j in range(i - 1, -1, -1):\n",
    "        if random_array[j] > current_value:\n",
    "            random_array[j + 1] = random_array[j]\n",
    "            insert_index = j\n",
    "        else:\n",
    "            break\n",
    "        \n",
    "    random_array[insert_index] = current_value\n",
    "    print(f\"Step {i} :\", random_array)\n",
    "\n",
    "print(\"Sorted Array: \", random_array)"
   ]
  }
 ],
 "metadata": {
  "kernelspec": {
   "display_name": "Python 3",
   "language": "python",
   "name": "python3"
  },
  "language_info": {
   "codemirror_mode": {
    "name": "ipython",
    "version": 3
   },
   "file_extension": ".py",
   "mimetype": "text/x-python",
   "name": "python",
   "nbconvert_exporter": "python",
   "pygments_lexer": "ipython3",
   "version": "3.11.7"
  }
 },
 "nbformat": 4,
 "nbformat_minor": 2
}
