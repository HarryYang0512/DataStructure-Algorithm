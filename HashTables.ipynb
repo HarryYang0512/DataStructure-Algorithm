{
 "cells": [
  {
   "cell_type": "code",
   "execution_count": 11,
   "metadata": {},
   "outputs": [],
   "source": [
    "def hash_function(value):\n",
    "    sum_of_chars = 0\n",
    "    for char in value:\n",
    "        sum_of_chars += ord(char)\n",
    "\n",
    "    return sum_of_chars % 10\n",
    "\n",
    "def contains(name):\n",
    "    index = hash_function(name)\n",
    "    return my_hash_set[index] == name"
   ]
  },
  {
   "cell_type": "code",
   "execution_count": 12,
   "metadata": {},
   "outputs": [
    {
     "name": "stdout",
     "output_type": "stream",
     "text": [
      "'Bob' has hash code:  5\n",
      "'Pete' has hash code:  8\n",
      "'Jones' has hash code:  1\n",
      "'Bob' has hash code:  5\n",
      "'Lisa' has hash code:  3\n",
      "'Siri' has hash code:  7\n"
     ]
    }
   ],
   "source": [
    "print(\"'Bob' has hash code: \", hash_function('Bob'))\n",
    "print(\"'Pete' has hash code: \", hash_function('Pete'))\n",
    "print(\"'Jones' has hash code: \", hash_function('Jones'))\n",
    "print(\"'Bob' has hash code: \", hash_function('Bob'))\n",
    "print(\"'Lisa' has hash code: \", hash_function('Lisa'))\n",
    "print(\"'Siri' has hash code: \", hash_function('Siri'))"
   ]
  },
  {
   "cell_type": "code",
   "execution_count": 13,
   "metadata": {},
   "outputs": [],
   "source": [
    "my_hash_set = [None, 'Jones', None, 'Lisa', None, 'Bob', None, 'Siri', 'Pete', None]"
   ]
  },
  {
   "cell_type": "code",
   "execution_count": 14,
   "metadata": {},
   "outputs": [
    {
     "name": "stdout",
     "output_type": "stream",
     "text": [
      "'Pete' is in the Hash Set:  True\n"
     ]
    }
   ],
   "source": [
    "print(\"'Pete' is in the Hash Set: \", contains('Pete'))"
   ]
  },
  {
   "cell_type": "markdown",
   "metadata": {},
   "source": [
    "Handling Collisions"
   ]
  },
  {
   "cell_type": "code",
   "execution_count": 15,
   "metadata": {},
   "outputs": [],
   "source": [
    "my_hash_set =[\n",
    "    [None],\n",
    "    ['Jones'],\n",
    "    [None],\n",
    "    ['Lisa'],\n",
    "    [None],\n",
    "    ['Bob'],\n",
    "    [None],\n",
    "    ['Siri'],\n",
    "    ['Pete'],\n",
    "    [None]\n",
    "]"
   ]
  },
  {
   "cell_type": "code",
   "execution_count": 16,
   "metadata": {},
   "outputs": [],
   "source": [
    "def hash_function(value):\n",
    "    return sum(ord(char) for char in value) % 10\n",
    "\n",
    "def add(value):\n",
    "    index = hash_function(value)\n",
    "    bucket = my_hash_set[index]\n",
    "    if value not in bucket:\n",
    "        bucket.append(value)\n",
    "\n",
    "def contains(value):\n",
    "    index = hash_function(value)\n",
    "    bucket = my_hash_set[index]\n",
    "    return value in bucket"
   ]
  },
  {
   "cell_type": "code",
   "execution_count": 17,
   "metadata": {},
   "outputs": [
    {
     "name": "stdout",
     "output_type": "stream",
     "text": [
      "[[None], ['Jones'], [None], ['Lisa', 'Stuart'], [None], ['Bob'], [None], ['Siri'], ['Pete'], [None]]\n",
      "Contains Stuart:  True\n"
     ]
    }
   ],
   "source": [
    "add('Stuart')\n",
    "\n",
    "print(my_hash_set)\n",
    "print('Contains Stuart: ', contains('Stuart'))"
   ]
  }
 ],
 "metadata": {
  "kernelspec": {
   "display_name": "Python 3",
   "language": "python",
   "name": "python3"
  },
  "language_info": {
   "codemirror_mode": {
    "name": "ipython",
    "version": 3
   },
   "file_extension": ".py",
   "mimetype": "text/x-python",
   "name": "python",
   "nbconvert_exporter": "python",
   "pygments_lexer": "ipython3",
   "version": "3.11.7"
  }
 },
 "nbformat": 4,
 "nbformat_minor": 2
}
