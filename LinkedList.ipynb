{
 "cells": [
  {
   "cell_type": "markdown",
   "metadata": {},
   "source": [
    "Linked List: Singly Linked"
   ]
  },
  {
   "cell_type": "code",
   "execution_count": 3,
   "metadata": {},
   "outputs": [
    {
     "name": "stdout",
     "output_type": "stream",
     "text": [
      "3 -> 5 -> 13 -> 2 -> null\n"
     ]
    }
   ],
   "source": [
    "class Nodesingly:\n",
    "    def __init__(self, data):\n",
    "        self.data = data\n",
    "        self.next = None\n",
    "    \n",
    "node1 = Nodesingly(3)\n",
    "node2 = Nodesingly(5)\n",
    "node3 = Nodesingly(13)\n",
    "node4 = Nodesingly(2)\n",
    "\n",
    "node1.next = node2\n",
    "node2.next = node3\n",
    "node3.next = node4\n",
    "\n",
    "currentNode = node1\n",
    "while currentNode:\n",
    "    print(currentNode.data, end=\" -> \")\n",
    "    currentNode = currentNode.next\n",
    "print(\"null\")\n"
   ]
  },
  {
   "cell_type": "markdown",
   "metadata": {},
   "source": [
    "Ninked Nist: Doubly Linked"
   ]
  },
  {
   "cell_type": "code",
   "execution_count": 4,
   "metadata": {},
   "outputs": [
    {
     "name": "stdout",
     "output_type": "stream",
     "text": [
      "\n",
      "Traversing forward: \n",
      "3 -> 5 -> 13 -> 2 -> null\n",
      "\n",
      "Traversing backward: \n",
      "2 -> 13 -> 5 -> 3 -> null\n"
     ]
    }
   ],
   "source": [
    "class Nodedoubly:\n",
    "    def __init__(self, data):\n",
    "        self.data = data\n",
    "        self.next = None\n",
    "        self.prev = None\n",
    "    \n",
    "node1 = Nodedoubly(3)\n",
    "node2 = Nodedoubly(5)\n",
    "node3 = Nodedoubly(13)\n",
    "node4 = Nodedoubly(2)\n",
    "\n",
    "node1.next = node2\n",
    "\n",
    "node2.prev = node1\n",
    "node2.next = node3\n",
    "\n",
    "node3.prev = node2\n",
    "node3.next = node4\n",
    "\n",
    "node4.prev = node3\n",
    "\n",
    "print(\"\\nTraversing forward: \")\n",
    "currentNode = node1\n",
    "while currentNode:\n",
    "    print(currentNode.data, end=\" -> \")\n",
    "    currentNode = currentNode.next\n",
    "print(\"null\")\n",
    "\n",
    "print(\"\\nTraversing backward: \")\n",
    "currentNode = node4\n",
    "while currentNode:\n",
    "    print(currentNode.data, end=\" -> \")\n",
    "    currentNode = currentNode.prev\n",
    "print(\"null\")"
   ]
  },
  {
   "cell_type": "markdown",
   "metadata": {},
   "source": [
    "Linked List: Circular Singly List"
   ]
  },
  {
   "cell_type": "code",
   "execution_count": 5,
   "metadata": {},
   "outputs": [
    {
     "name": "stdout",
     "output_type": "stream",
     "text": [
      "3 -> 5 -> 13 -> 2 -> ...\n"
     ]
    }
   ],
   "source": [
    "node1 = Nodesingly(3)\n",
    "node2 = Nodesingly(5)\n",
    "node3 = Nodesingly(13)\n",
    "node4 = Nodesingly(2)\n",
    "\n",
    "node1.next = node2\n",
    "node2.next = node3\n",
    "node3.next = node4\n",
    "node4.next = node1\n",
    "\n",
    "currentNode = node1\n",
    "startNode = node1\n",
    "print(currentNode.data, end=\" -> \")\n",
    "currentNode = currentNode.next\n",
    "\n",
    "while currentNode != startNode:\n",
    "    print(currentNode.data, end=\" -> \")\n",
    "    currentNode = currentNode.next\n",
    "print(\"...\")"
   ]
  },
  {
   "cell_type": "markdown",
   "metadata": {},
   "source": [
    "Linked List: Circular Doubly List"
   ]
  },
  {
   "cell_type": "code",
   "execution_count": 7,
   "metadata": {},
   "outputs": [
    {
     "name": "stdout",
     "output_type": "stream",
     "text": [
      "\n",
      "Traversing forward: \n",
      "3 -> 5 -> 13 -> 2 -> ...\n",
      "\n",
      "Traversing backward: \n",
      "2 -> 13 -> 5 -> 3 -> ...\n"
     ]
    }
   ],
   "source": [
    "node1 = Nodedoubly(3)\n",
    "node2 = Nodedoubly(5)\n",
    "node3 = Nodedoubly(13)\n",
    "node4 = Nodedoubly(2)\n",
    "\n",
    "node1.next = node2\n",
    "node1.prev = node4\n",
    "\n",
    "node2.prev = node1\n",
    "node2.next = node3\n",
    "\n",
    "node3.prev = node2\n",
    "node3.next = node4\n",
    "\n",
    "node4.prev = node3\n",
    "node4.next = node1\n",
    "\n",
    "print(\"\\nTraversing forward: \")\n",
    "currentNode = node1\n",
    "startNode = node1\n",
    "print(currentNode.data, end=\" -> \")\n",
    "currentNode = currentNode.next\n",
    "\n",
    "while currentNode != startNode:\n",
    "    print(currentNode.data, end=\" -> \")\n",
    "    currentNode = currentNode.next\n",
    "print(\"...\")\n",
    "\n",
    "print(\"\\nTraversing backward: \")\n",
    "currentNode = node4\n",
    "startNode = node4\n",
    "print(currentNode.data, end=\" -> \")\n",
    "currentNode = currentNode.prev\n",
    "\n",
    "while currentNode != startNode:\n",
    "    print(currentNode.data, end=\" -> \")\n",
    "    currentNode = currentNode.prev\n",
    "print(\"...\")"
   ]
  },
  {
   "cell_type": "markdown",
   "metadata": {},
   "source": [
    "Linked List Operations"
   ]
  },
  {
   "cell_type": "code",
   "execution_count": 17,
   "metadata": {},
   "outputs": [],
   "source": [
    "def traverseAndPrint(head):\n",
    "    currentNode = head\n",
    "    while currentNode:\n",
    "        print(currentNode.data, end = \" -> \")\n",
    "        currentNode = currentNode.next\n",
    "    print(\"null\")\n",
    "\n",
    "def findLowestValue(head):\n",
    "    minValue = head.data\n",
    "    currentNode = head.next\n",
    "    while currentNode:\n",
    "        if currentNode.data < minValue:\n",
    "            minValue = currentNode.data\n",
    "        currentNode = currentNode.next\n",
    "    return minValue\n",
    "\n",
    "def deletSpecificNode(head, nodeToDelet):\n",
    "    if head == nodeToDelet:\n",
    "        return head.next\n",
    "    \n",
    "    currentNode = head\n",
    "    while currentNode.next and currentNode.next != nodeToDelet:\n",
    "        currentNode = currentNode.next\n",
    "    \n",
    "    if currentNode.next is None:\n",
    "        return head\n",
    "    \n",
    "    currentNode.next = currentNode.next.next\n",
    "\n",
    "    return head\n",
    "\n",
    "def insertNodeAtPosition(head, newNode, position):\n",
    "    if position == 1:\n",
    "        newNode.next = head\n",
    "        return newNode\n",
    "    \n",
    "    currentNode = head\n",
    "    for _ in range(position - 2):\n",
    "        if currentNode is None:\n",
    "            break\n",
    "        currentNode = currentNode.next\n",
    "    \n",
    "    newNode.next = currentNode.next\n",
    "    currentNode.next = newNode\n",
    "    return head"
   ]
  },
  {
   "cell_type": "code",
   "execution_count": 18,
   "metadata": {},
   "outputs": [
    {
     "name": "stdout",
     "output_type": "stream",
     "text": [
      "Before deletion: \n",
      "7 -> 11 -> 3 -> 2 -> 9 -> null\n",
      "The lowwst value in the linked list is:  2\n",
      "After deletion: \n",
      "7 -> 11 -> 3 -> 9 -> null\n",
      "The lowwst value in the linked list is:  3\n",
      "Before Insertion: \n",
      "7 -> 11 -> 3 -> 9 -> null\n",
      "The lowwst value in the linked list is:  3\n",
      "After deletion: \n",
      "7 -> 97 -> 11 -> 3 -> 9 -> null\n",
      "The lowwst value in the linked list is:  3\n"
     ]
    }
   ],
   "source": [
    "node1 = Nodesingly(7)\n",
    "node2 = Nodesingly(11)\n",
    "node3 = Nodesingly(3)\n",
    "node4 = Nodesingly(2)\n",
    "node5 = Nodesingly(9)\n",
    "\n",
    "node1.next = node2\n",
    "node2.next = node3\n",
    "node3.next = node4\n",
    "node4.next = node5\n",
    "\n",
    "print(\"Before deletion: \")\n",
    "traverseAndPrint(node1)\n",
    "print(\"The lowwst value in the linked list is: \", findLowestValue(node1))\n",
    "\n",
    "print(\"After deletion: \")\n",
    "node1 = deletSpecificNode(node1, node4)\n",
    "traverseAndPrint(node1)\n",
    "print(\"The lowwst value in the linked list is: \", findLowestValue(node1))\n",
    "\n",
    "print(\"Before Insertion: \")\n",
    "traverseAndPrint(node1)\n",
    "print(\"The lowwst value in the linked list is: \", findLowestValue(node1))\n",
    "\n",
    "print(\"After deletion: \")\n",
    "newNode = Nodesingly(97)\n",
    "node1 = insertNodeAtPosition(node1, newNode, 2)\n",
    "\n",
    "traverseAndPrint(node1)\n",
    "print(\"The lowwst value in the linked list is: \", findLowestValue(node1))"
   ]
  }
 ],
 "metadata": {
  "kernelspec": {
   "display_name": "Python 3",
   "language": "python",
   "name": "python3"
  },
  "language_info": {
   "codemirror_mode": {
    "name": "ipython",
    "version": 3
   },
   "file_extension": ".py",
   "mimetype": "text/x-python",
   "name": "python",
   "nbconvert_exporter": "python",
   "pygments_lexer": "ipython3",
   "version": "3.11.7"
  }
 },
 "nbformat": 4,
 "nbformat_minor": 2
}
