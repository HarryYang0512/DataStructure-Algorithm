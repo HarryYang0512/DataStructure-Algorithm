{
 "cells": [
  {
   "cell_type": "code",
   "execution_count": 8,
   "metadata": {},
   "outputs": [
    {
     "name": "stdout",
     "output_type": "stream",
     "text": [
      "[15, 0, 6, 11, 13, 14, 9, 3, 19, 2]\n"
     ]
    }
   ],
   "source": [
    "import random\n",
    "\n",
    "random_array = random.sample(range(0, 20), 10)\n",
    "\n",
    "print(random_array)"
   ]
  },
  {
   "cell_type": "code",
   "execution_count": 9,
   "metadata": {},
   "outputs": [
    {
     "name": "stdout",
     "output_type": "stream",
     "text": [
      "Count:  [0, 0, 0, 0, 0, 0, 0, 0, 0, 0, 0, 0, 0, 0, 0, 1, 0, 0, 0, 0]\n",
      "Count:  [1, 0, 0, 0, 0, 0, 0, 0, 0, 0, 0, 0, 0, 0, 0, 1, 0, 0, 0, 0]\n",
      "Count:  [1, 0, 0, 0, 0, 0, 1, 0, 0, 0, 0, 0, 0, 0, 0, 1, 0, 0, 0, 0]\n",
      "Count:  [1, 0, 0, 0, 0, 0, 1, 0, 0, 0, 0, 1, 0, 0, 0, 1, 0, 0, 0, 0]\n",
      "Count:  [1, 0, 0, 0, 0, 0, 1, 0, 0, 0, 0, 1, 0, 1, 0, 1, 0, 0, 0, 0]\n",
      "Count:  [1, 0, 0, 0, 0, 0, 1, 0, 0, 0, 0, 1, 0, 1, 1, 1, 0, 0, 0, 0]\n",
      "Count:  [1, 0, 0, 0, 0, 0, 1, 0, 0, 1, 0, 1, 0, 1, 1, 1, 0, 0, 0, 0]\n",
      "Count:  [1, 0, 0, 1, 0, 0, 1, 0, 0, 1, 0, 1, 0, 1, 1, 1, 0, 0, 0, 0]\n",
      "Count:  [1, 0, 0, 1, 0, 0, 1, 0, 0, 1, 0, 1, 0, 1, 1, 1, 0, 0, 0, 1]\n",
      "Count:  [1, 0, 1, 1, 0, 0, 1, 0, 0, 1, 0, 1, 0, 1, 1, 1, 0, 0, 0, 1]\n",
      "Array:  [0]\n",
      "Array:  [0, 2]\n",
      "Array:  [0, 2, 3]\n",
      "Array:  [0, 2, 3, 6]\n",
      "Array:  [0, 2, 3, 6, 9]\n",
      "Array:  [0, 2, 3, 6, 9, 11]\n",
      "Array:  [0, 2, 3, 6, 9, 11, 13]\n",
      "Array:  [0, 2, 3, 6, 9, 11, 13, 14]\n",
      "Array:  [0, 2, 3, 6, 9, 11, 13, 14, 15]\n",
      "Array:  [0, 2, 3, 6, 9, 11, 13, 14, 15, 19]\n",
      "Sorted Array:  [0, 2, 3, 6, 9, 11, 13, 14, 15, 19]\n"
     ]
    }
   ],
   "source": [
    "def countingSort(arr):\n",
    "    max_value = max(arr)\n",
    "    count = [0] * (max_value + 1)\n",
    "    \n",
    "    while arr:\n",
    "        num = arr.pop(0)\n",
    "        count[num] += 1\n",
    "        print(\"Count: \", count)\n",
    "    \n",
    "    for i in range(len(count)):\n",
    "        while count[i] > 0:\n",
    "            arr.append(i)\n",
    "            count[i] -= 1\n",
    "            print(\"Array: \", arr)\n",
    "        \n",
    "    return arr\n",
    "\n",
    "countingSort(random_array)\n",
    "print(\"Sorted Array: \", random_array)\n",
    "\n",
    "\n"
   ]
  }
 ],
 "metadata": {
  "kernelspec": {
   "display_name": "Python 3",
   "language": "python",
   "name": "python3"
  },
  "language_info": {
   "codemirror_mode": {
    "name": "ipython",
    "version": 3
   },
   "file_extension": ".py",
   "mimetype": "text/x-python",
   "name": "python",
   "nbconvert_exporter": "python",
   "pygments_lexer": "ipython3",
   "version": "3.11.7"
  }
 },
 "nbformat": 4,
 "nbformat_minor": 2
}
