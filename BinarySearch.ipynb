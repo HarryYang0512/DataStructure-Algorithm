{
 "cells": [
  {
   "cell_type": "code",
   "execution_count": 25,
   "metadata": {},
   "outputs": [
    {
     "name": "stdout",
     "output_type": "stream",
     "text": [
      "[0, 5, 1, 7, 8, 2, 4, 9, 6, 3]\n"
     ]
    }
   ],
   "source": [
    "import random\n",
    "\n",
    "randomArray = random.sample(range(0,10), 10)\n",
    "\n",
    "print(randomArray)"
   ]
  },
  {
   "cell_type": "code",
   "execution_count": 26,
   "metadata": {},
   "outputs": [],
   "source": [
    "def BinarySearch(array, value):\n",
    "    left = 0\n",
    "    right = len(array) - 1\n",
    "\n",
    "    while left < right:\n",
    "        mid = (left + right) // 2\n",
    "\n",
    "        if array[mid] == value:\n",
    "            return mid\n",
    "        elif array[mid] < value:\n",
    "            left = mid + 1\n",
    "        else:\n",
    "            right = mid - 1\n",
    "    \n",
    "    return -1    "
   ]
  },
  {
   "cell_type": "code",
   "execution_count": 27,
   "metadata": {},
   "outputs": [
    {
     "name": "stdout",
     "output_type": "stream",
     "text": [
      "Finding for 9 in the array\n",
      "Value  9  is founded at  7\n"
     ]
    }
   ],
   "source": [
    "targetvalue = random.randint(0, 10)\n",
    "print(\"Finding for\", targetvalue, \"in the array\")\n",
    "\n",
    "result = BinarySearch(randomArray, targetvalue)\n",
    "\n",
    "if result == -1:\n",
    "    print(\"Value \", targetvalue, \" is not founded !\")\n",
    "else:\n",
    "    print(\"Value \", targetvalue, \" is founded at \", result)"
   ]
  }
 ],
 "metadata": {
  "kernelspec": {
   "display_name": "Python 3",
   "language": "python",
   "name": "python3"
  },
  "language_info": {
   "codemirror_mode": {
    "name": "ipython",
    "version": 3
   },
   "file_extension": ".py",
   "mimetype": "text/x-python",
   "name": "python",
   "nbconvert_exporter": "python",
   "pygments_lexer": "ipython3",
   "version": "3.11.7"
  }
 },
 "nbformat": 4,
 "nbformat_minor": 2
}
