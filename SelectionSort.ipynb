{
 "cells": [
  {
   "cell_type": "code",
   "execution_count": 19,
   "metadata": {},
   "outputs": [
    {
     "name": "stdout",
     "output_type": "stream",
     "text": [
      "[4, 26, 76, 80, 52, 40, 74, 54, 20, 20]\n"
     ]
    }
   ],
   "source": [
    "import random\n",
    "random_array = []\n",
    "\n",
    "for i in range(10):\n",
    "    value = random.randint(1, 100)\n",
    "    random_array.append(value)\n",
    "\n",
    "print(random_array)"
   ]
  },
  {
   "cell_type": "markdown",
   "metadata": {},
   "source": [
    "Shifting : Remove the lowest value, and insert it in the array."
   ]
  },
  {
   "cell_type": "code",
   "execution_count": 20,
   "metadata": {},
   "outputs": [
    {
     "name": "stdout",
     "output_type": "stream",
     "text": [
      "Step 1 : [4, 26, 76, 80, 52, 40, 74, 54, 20, 20]\n",
      "Step 2 : [4, 20, 26, 76, 80, 52, 40, 74, 54, 20]\n",
      "Step 3 : [4, 20, 20, 26, 76, 80, 52, 40, 74, 54]\n",
      "Step 4 : [4, 20, 20, 26, 76, 80, 52, 40, 74, 54]\n",
      "Step 5 : [4, 20, 20, 26, 40, 76, 80, 52, 74, 54]\n",
      "Step 6 : [4, 20, 20, 26, 40, 52, 76, 80, 74, 54]\n",
      "Step 7 : [4, 20, 20, 26, 40, 52, 54, 76, 80, 74]\n",
      "Step 8 : [4, 20, 20, 26, 40, 52, 54, 74, 76, 80]\n",
      "Step 9 : [4, 20, 20, 26, 40, 52, 54, 74, 76, 80]\n",
      "Sorted Array:  [4, 20, 20, 26, 40, 52, 54, 74, 76, 80]\n"
     ]
    }
   ],
   "source": [
    "n = len(random_array)\n",
    "\n",
    "for i in range(n - 1):\n",
    "    min_index = i\n",
    "\n",
    "    for j in range(i + 1, n):\n",
    "        if random_array[j] < random_array[min_index]:\n",
    "            min_index = j\n",
    "    \n",
    "    min_value = random_array.pop(min_index)\n",
    "    random_array.insert(i, min_value)\n",
    "    print(f\"Step {i +1} :\", random_array)\n",
    "\n",
    "print(\"Sorted Array: \", random_array)"
   ]
  },
  {
   "cell_type": "code",
   "execution_count": 21,
   "metadata": {},
   "outputs": [
    {
     "name": "stdout",
     "output_type": "stream",
     "text": [
      "[78, 46, 85, 72, 89, 66, 91, 88, 93, 86]\n"
     ]
    }
   ],
   "source": [
    "import random\n",
    "random_array = []\n",
    "\n",
    "for i in range(10):\n",
    "    value = random.randint(1, 100)\n",
    "    random_array.append(value)\n",
    "\n",
    "print(random_array)"
   ]
  },
  {
   "cell_type": "markdown",
   "metadata": {},
   "source": [
    "Swap value: Swap the lowest value with the first value"
   ]
  },
  {
   "cell_type": "code",
   "execution_count": 22,
   "metadata": {},
   "outputs": [
    {
     "name": "stdout",
     "output_type": "stream",
     "text": [
      "Step 1 : [46, 78, 85, 72, 89, 66, 91, 88, 93, 86]\n",
      "Step 2 : [46, 66, 85, 72, 89, 78, 91, 88, 93, 86]\n",
      "Step 3 : [46, 66, 72, 85, 89, 78, 91, 88, 93, 86]\n",
      "Step 4 : [46, 66, 72, 78, 89, 85, 91, 88, 93, 86]\n",
      "Step 5 : [46, 66, 72, 78, 85, 89, 91, 88, 93, 86]\n",
      "Step 6 : [46, 66, 72, 78, 85, 86, 91, 88, 93, 89]\n",
      "Step 7 : [46, 66, 72, 78, 85, 86, 88, 91, 93, 89]\n",
      "Step 8 : [46, 66, 72, 78, 85, 86, 88, 89, 93, 91]\n",
      "Step 9 : [46, 66, 72, 78, 85, 86, 88, 89, 91, 93]\n",
      "Sorted Array:  [46, 66, 72, 78, 85, 86, 88, 89, 91, 93]\n"
     ]
    }
   ],
   "source": [
    "for i in range(n - 1):\n",
    "    min_index = i\n",
    "\n",
    "    for j in range(i + 1, n):\n",
    "        if random_array[j] < random_array[min_index]:\n",
    "            min_index = j\n",
    "    \n",
    "    random_array[i], random_array[min_index] = random_array[min_index], random_array[i]\n",
    "    print(f\"Step {i +1} :\", random_array)\n",
    "\n",
    "print(\"Sorted Array: \", random_array)"
   ]
  }
 ],
 "metadata": {
  "kernelspec": {
   "display_name": "Python 3",
   "language": "python",
   "name": "python3"
  },
  "language_info": {
   "codemirror_mode": {
    "name": "ipython",
    "version": 3
   },
   "file_extension": ".py",
   "mimetype": "text/x-python",
   "name": "python",
   "nbconvert_exporter": "python",
   "pygments_lexer": "ipython3",
   "version": "3.11.7"
  }
 },
 "nbformat": 4,
 "nbformat_minor": 2
}
