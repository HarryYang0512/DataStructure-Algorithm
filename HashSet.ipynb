{
 "cells": [
  {
   "cell_type": "markdown",
   "metadata": {},
   "source": [
    "Hash Set"
   ]
  },
  {
   "cell_type": "code",
   "execution_count": 1,
   "metadata": {},
   "outputs": [],
   "source": [
    "class SimpleHashSet:\n",
    "    def __init__(self, size):\n",
    "        self.size = size\n",
    "        self.buckets = [[] for _ in range(size)]\n",
    "    \n",
    "    def hash_function(self, value):\n",
    "        return sum(ord(char) for char in value) % self.size\n",
    "    \n",
    "    def add(self, value):\n",
    "        index = self.hash_function(value)\n",
    "        bucket = self.buckets[index]\n",
    "        if value not in bucket:\n",
    "            bucket.append(value)\n",
    "\n",
    "    def contains(self, value):\n",
    "        index = self.hash_function(value)\n",
    "        bucket = self.buckets[index]\n",
    "        return value in bucket\n",
    "    \n",
    "    def remove(self, value):\n",
    "        index = self.hash_function(value)\n",
    "        bucket = self.buckets[index]\n",
    "        if value in bucket:\n",
    "            bucket.remove(value)\n",
    "        \n",
    "    def print_set(self):\n",
    "        print(\"Hash Set Contents:\")\n",
    "        for index, bucket in enumerate(self.buckets):\n",
    "            print(f\"Bucket {index}: {bucket}\")"
   ]
  },
  {
   "cell_type": "code",
   "execution_count": 2,
   "metadata": {},
   "outputs": [
    {
     "name": "stdout",
     "output_type": "stream",
     "text": [
      "Hash Set Contents:\n",
      "Bucket 0: ['Thomas', 'Jens']\n",
      "Bucket 1: []\n",
      "Bucket 2: ['Peter']\n",
      "Bucket 3: ['Lisa']\n",
      "Bucket 4: ['Charlotte']\n",
      "Bucket 5: ['Adele', 'Bob']\n",
      "Bucket 6: []\n",
      "Bucket 7: []\n",
      "Bucket 8: ['Michaela']\n",
      "Bucket 9: []\n",
      "\n",
      "'Peter' is in the set:  True\n",
      "Removing 'Peter'\n",
      "\n",
      "'Peter' is in the set:  False\n",
      "\n",
      "'Adele' is in the set:  True\n"
     ]
    }
   ],
   "source": [
    "hash_set = SimpleHashSet(size = 10)\n",
    "\n",
    "hash_set.add(\"Charlotte\")\n",
    "hash_set.add(\"Thomas\")\n",
    "hash_set.add(\"Jens\")\n",
    "hash_set.add(\"Peter\")\n",
    "hash_set.add(\"Lisa\")\n",
    "hash_set.add(\"Adele\")\n",
    "hash_set.add(\"Michaela\")\n",
    "hash_set.add(\"Bob\")\n",
    "\n",
    "hash_set.print_set()\n",
    "\n",
    "print(\"\\n'Peter' is in the set: \", hash_set.contains('Peter'))\n",
    "print(\"Removing 'Peter'\")\n",
    "hash_set.remove('Peter')\n",
    "print(\"\\n'Peter' is in the set: \", hash_set.contains('Peter'))\n",
    "print(\"\\n'Adele' is in the set: \", hash_set.contains('Adele'))"
   ]
  }
 ],
 "metadata": {
  "kernelspec": {
   "display_name": "Python 3",
   "language": "python",
   "name": "python3"
  },
  "language_info": {
   "codemirror_mode": {
    "name": "ipython",
    "version": 3
   },
   "file_extension": ".py",
   "mimetype": "text/x-python",
   "name": "python",
   "nbconvert_exporter": "python",
   "pygments_lexer": "ipython3",
   "version": "3.11.7"
  }
 },
 "nbformat": 4,
 "nbformat_minor": 2
}
