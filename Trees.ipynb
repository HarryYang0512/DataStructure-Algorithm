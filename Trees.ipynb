{
 "cells": [
  {
   "cell_type": "markdown",
   "metadata": {},
   "source": [
    "# Trees\n",
    "The data structure is called a \"tree\" because it looks like a tree, only upside down. <br>\n",
    "\n",
    "The tree data structure can be useful in many cases:\n",
    "* Hierarchical Data : File systems, organizational models, etc.\n",
    "* Databases : Used for quick data retrieval.\n",
    "* Routing Tabels : Used for routing data in network algorithms.\n",
    "* Sorting/Searching : Used for sorting data and searching for data.\n",
    "* Priorty Queues : Priority queue data structures are commonly implemented using trees, such as binary heaps."
   ]
  },
  {
   "cell_type": "markdown",
   "metadata": {},
   "source": [
    "Binary trees : A type of tree data structure where each node can have a maximum of two child nodes, a left child dode and a right child node."
   ]
  },
  {
   "cell_type": "code",
   "execution_count": 93,
   "metadata": {},
   "outputs": [],
   "source": [
    "class TreeNode:\n",
    "    def __init__(self, data):\n",
    "        self.data = data\n",
    "        self.left = None\n",
    "        self.right = None"
   ]
  },
  {
   "cell_type": "code",
   "execution_count": 94,
   "metadata": {},
   "outputs": [],
   "source": [
    "# Define the node for the tree\n",
    "root = TreeNode('R')\n",
    "nodeA = TreeNode('A')\n",
    "nodeB = TreeNode('B')\n",
    "nodeC = TreeNode('C')\n",
    "nodeD = TreeNode('D')\n",
    "nodeE = TreeNode('E')\n",
    "nodeF = TreeNode('F')\n",
    "nodeG = TreeNode('G')"
   ]
  },
  {
   "cell_type": "code",
   "execution_count": 95,
   "metadata": {},
   "outputs": [],
   "source": [
    "# Build the tree by Connecting the node \n",
    "## First layer\n",
    "root.left = nodeA\n",
    "root.right = nodeB\n",
    "\n",
    "## Second Layer\n",
    "nodeA.left = nodeC\n",
    "nodeA.right = nodeD\n",
    "\n",
    "nodeB.left = nodeE\n",
    "nodeB.right = nodeF\n",
    "\n",
    "# Third Layer\n",
    "nodeF.left = nodeG"
   ]
  },
  {
   "cell_type": "code",
   "execution_count": 96,
   "metadata": {},
   "outputs": [
    {
     "name": "stdout",
     "output_type": "stream",
     "text": [
      "root.right.left.data E\n"
     ]
    }
   ],
   "source": [
    "print(\"root.right.left.data\", root.right.left.data)"
   ]
  },
  {
   "cell_type": "markdown",
   "metadata": {},
   "source": [
    "# Binary Tree Traversal\n",
    "There are two main categories of Tree Traversal methods:\n",
    "* Breadth First Search (BFS) is when the nodes on the same level are visited before going to the next level in the tree. This means that the tree is explored in a more sideways direction.\n",
    "* Depth First Search (DFS) is when the traversal moves down the tree all the way to the leaf nodes, exploring the tree branch by branch in a downwards direction."
   ]
  },
  {
   "cell_type": "markdown",
   "metadata": {},
   "source": [
    "There are three different types of DFS traversal.\n",
    "* pre-order\n",
    "* in-order\n",
    "* post-order"
   ]
  },
  {
   "cell_type": "code",
   "execution_count": 97,
   "metadata": {},
   "outputs": [
    {
     "name": "stdout",
     "output_type": "stream",
     "text": [
      "R, A, C, D, B, E, F, G, "
     ]
    }
   ],
   "source": [
    "# DSA Pre-order Traversal\n",
    "def preOrderTraversal(node):\n",
    "    if node is None:\n",
    "        return\n",
    "    print(node.data, end=\", \")\n",
    "    preOrderTraversal(node.left)\n",
    "    preOrderTraversal(node.right)\n",
    "\n",
    "preOrderTraversal(root)"
   ]
  },
  {
   "cell_type": "code",
   "execution_count": 98,
   "metadata": {},
   "outputs": [
    {
     "name": "stdout",
     "output_type": "stream",
     "text": [
      "C, A, D, R, E, B, G, F, "
     ]
    }
   ],
   "source": [
    "# DSA In-order Traversal\n",
    "def inOrderTraversal(node):\n",
    "    if node == None:\n",
    "        return\n",
    "    inOrderTraversal(node.left)\n",
    "    print(node.data, end=\", \")\n",
    "    inOrderTraversal(node.right)\n",
    "\n",
    "inOrderTraversal(root)"
   ]
  },
  {
   "cell_type": "code",
   "execution_count": 99,
   "metadata": {},
   "outputs": [
    {
     "name": "stdout",
     "output_type": "stream",
     "text": [
      "C, D, A, E, G, F, B, R, "
     ]
    }
   ],
   "source": [
    "# DSA Post-order Traversal\n",
    "def postOrderTraversal(node):\n",
    "    if node == None:\n",
    "        return\n",
    "    postOrderTraversal(node.left)\n",
    "    postOrderTraversal(node.right)\n",
    "    print(node.data, end=\", \")\n",
    "\n",
    "postOrderTraversal(root)"
   ]
  },
  {
   "cell_type": "markdown",
   "metadata": {},
   "source": [
    "Array Implementation of Binary Tree <br>\n",
    "\n",
    "The binary tree can be stored in an Array starting with the root R on index 0. The rest of the tree can be built by taking a node stored on index i, and storing its left child node on index 2 * i + 1, and its right child node on index 2 * i + 2."
   ]
  },
  {
   "cell_type": "code",
   "execution_count": 100,
   "metadata": {},
   "outputs": [],
   "source": [
    "binary_tree_array = ['R', 'A', 'B', 'C', 'D', 'E', 'F', None, None, None, None, None, None, 'G']"
   ]
  },
  {
   "cell_type": "code",
   "execution_count": 101,
   "metadata": {},
   "outputs": [],
   "source": [
    "def left_child_index(index):\n",
    "    return 2 * index + 1\n",
    "\n",
    "def right_child_index(index):\n",
    "    return 2 * index + 2\n",
    "\n",
    "def get_data(index):\n",
    "    if 0 <= index < len(binary_tree_array):\n",
    "        return binary_tree_array[index]\n",
    "    return"
   ]
  },
  {
   "cell_type": "code",
   "execution_count": 102,
   "metadata": {},
   "outputs": [
    {
     "name": "stdout",
     "output_type": "stream",
     "text": [
      "root.right.left.data E\n"
     ]
    }
   ],
   "source": [
    "right_child = right_child_index(0)\n",
    "left_child_of_right_child = left_child_index(right_child)\n",
    "data = get_data(left_child_of_right_child)\n",
    "\n",
    "print('root.right.left.data', data)"
   ]
  },
  {
   "cell_type": "markdown",
   "metadata": {},
   "source": [
    "This is how the three different DFS traversals can be done on an Array implementation of a Binary Tree."
   ]
  },
  {
   "cell_type": "code",
   "execution_count": 103,
   "metadata": {},
   "outputs": [],
   "source": [
    "def pre_order(index):\n",
    "    if index >= len(binary_tree_array) or binary_tree_array[index] is None:\n",
    "        return []\n",
    "    return [binary_tree_array[index]] + pre_order(left_child_index(index)) + pre_order(right_child_index(index))\n",
    "\n",
    "def in_order(index):\n",
    "    if index >= len(binary_tree_array) or binary_tree_array[index] is None:\n",
    "        return []\n",
    "    return in_order(left_child_index(index)) + [binary_tree_array[index]] + in_order(right_child_index(index))\n",
    "\n",
    "def post_order(index):\n",
    "    if index >= len(binary_tree_array) or binary_tree_array[index] is None:\n",
    "        return []\n",
    "    return post_order(left_child_index(index)) + post_order(right_child_index(index)) + [binary_tree_array[index]]"
   ]
  },
  {
   "cell_type": "code",
   "execution_count": 104,
   "metadata": {},
   "outputs": [
    {
     "name": "stdout",
     "output_type": "stream",
     "text": [
      "Pre-Order Traversal:  ['R', 'A', 'C', 'D', 'B', 'E', 'F', 'G']\n",
      "In-Order Traversal:  ['C', 'A', 'D', 'R', 'E', 'B', 'G', 'F']\n",
      "Post-Order Traversal:  ['C', 'D', 'A', 'E', 'G', 'F', 'B', 'R']\n"
     ]
    }
   ],
   "source": [
    "print(\"Pre-Order Traversal: \", pre_order(0))\n",
    "print(\"In-Order Traversal: \", in_order(0))\n",
    "print(\"Post-Order Traversal: \", post_order(0))"
   ]
  },
  {
   "cell_type": "markdown",
   "metadata": {},
   "source": [
    "# Binary Search Tree\n",
    "A Binary Search Tree (BST) is a type of Binary Tree data structure, where the following properties must be true for any node \"X\" in the tree:\n",
    "* The X node's left child and all of its descendants (children, children's children, and so on) have lower values than X's value.\n",
    "* The right child, and all its descendants have higher values than X's value.\n",
    "* Left and right subtrees must also be Binary Search Trees.\n",
    "\n",
    "We can check if a tree is binary search tree by implementing In-Order Traversal. If the result value is incresing in order, it is binary search tree.\n"
   ]
  },
  {
   "cell_type": "code",
   "execution_count": 105,
   "metadata": {},
   "outputs": [
    {
     "name": "stdout",
     "output_type": "stream",
     "text": [
      "3, 7, 8, 13, 14, 15, 18, 19, "
     ]
    }
   ],
   "source": [
    "root = TreeNode(13)\n",
    "node7 = TreeNode(7)\n",
    "node15 = TreeNode(15)\n",
    "node3 = TreeNode(3)\n",
    "node8 = TreeNode(8)\n",
    "node14 = TreeNode(14)\n",
    "node19 = TreeNode(19)\n",
    "node18 = TreeNode(18)\n",
    "\n",
    "root.left = node7\n",
    "root.right = node15\n",
    "\n",
    "node7.left = node3\n",
    "node7.right = node8\n",
    "\n",
    "node15.left = node14\n",
    "node15.right = node19\n",
    "\n",
    "node19.left = node18\n",
    "\n",
    "inOrderTraversal(root)"
   ]
  },
  {
   "cell_type": "markdown",
   "metadata": {},
   "source": [
    "Searching for the value in the tree"
   ]
  },
  {
   "cell_type": "code",
   "execution_count": 106,
   "metadata": {},
   "outputs": [],
   "source": [
    "def search(node, target):\n",
    "    if node is None:\n",
    "        return None\n",
    "    if node.data == target:\n",
    "        return node\n",
    "    elif target < node.data:\n",
    "        return search(node.left, target)\n",
    "    else:\n",
    "        return search(node.right, target)"
   ]
  },
  {
   "cell_type": "code",
   "execution_count": 107,
   "metadata": {},
   "outputs": [
    {
     "name": "stdout",
     "output_type": "stream",
     "text": [
      "Found the node with value: 8\n"
     ]
    }
   ],
   "source": [
    "result = search(root, 8)\n",
    "\n",
    "if result:\n",
    "    print(f'Found the node with value: {result.data}')\n",
    "else:\n",
    "    print(\"Value not found in the BST\")\n"
   ]
  },
  {
   "cell_type": "markdown",
   "metadata": {},
   "source": [
    "Insert a value into tree"
   ]
  },
  {
   "cell_type": "code",
   "execution_count": 108,
   "metadata": {},
   "outputs": [],
   "source": [
    "def insert(node, data):\n",
    "    if node is None:\n",
    "        return TreeNode(data)\n",
    "    else:\n",
    "        if data < node.data:\n",
    "            node.left = insert(node.left, data)\n",
    "        else:\n",
    "            node.right = insert(node.right, data)\n",
    "    return node"
   ]
  },
  {
   "cell_type": "code",
   "execution_count": 109,
   "metadata": {},
   "outputs": [
    {
     "name": "stdout",
     "output_type": "stream",
     "text": [
      "3, 7, 8, 10, 13, 14, 15, 18, 19, "
     ]
    }
   ],
   "source": [
    "insert(root, 10)\n",
    "\n",
    "inOrderTraversal(root)"
   ]
  },
  {
   "cell_type": "markdown",
   "metadata": {},
   "source": [
    "Delete the value in the tree"
   ]
  },
  {
   "cell_type": "code",
   "execution_count": 110,
   "metadata": {},
   "outputs": [],
   "source": [
    "# First we need to define the function for finding the lowest value in the tree\n",
    "def minValueNode(node):\n",
    "    current = node\n",
    "    while current.left is not None:\n",
    "        current = current.left\n",
    "    return current"
   ]
  },
  {
   "cell_type": "code",
   "execution_count": 111,
   "metadata": {},
   "outputs": [],
   "source": [
    "def delete(node, data):\n",
    "    if not node:\n",
    "        return None\n",
    "    if data < node.data:\n",
    "        node.left = delete(node.left, data)\n",
    "    elif data > node.data:\n",
    "        node.right = delete(node.right, data)\n",
    "    else:\n",
    "        # Node with only one child or no child\n",
    "        if not node.left:\n",
    "            temp = node.right\n",
    "            node = None\n",
    "            return temp\n",
    "        elif not node.right:\n",
    "            temp = node.left\n",
    "            node = None\n",
    "            return temp\n",
    "        \n",
    "        # Node with two children, gat the in-order successor\n",
    "        node.data = minValueNode(node.right).data\n",
    "        node.right = delete(node.right, node.data)\n",
    "    \n",
    "    return node"
   ]
  },
  {
   "cell_type": "code",
   "execution_count": 112,
   "metadata": {},
   "outputs": [
    {
     "name": "stdout",
     "output_type": "stream",
     "text": [
      "3, 7, 8, 10, 13, 14, 15, 18, 19, \n",
      "3, 7, 8, 10, 13, 14, 18, 19, "
     ]
    }
   ],
   "source": [
    "inOrderTraversal(root)\n",
    "\n",
    "delete(root, 15)\n",
    "\n",
    "print()\n",
    "inOrderTraversal(root)"
   ]
  }
 ],
 "metadata": {
  "kernelspec": {
   "display_name": "Python 3",
   "language": "python",
   "name": "python3"
  },
  "language_info": {
   "codemirror_mode": {
    "name": "ipython",
    "version": 3
   },
   "file_extension": ".py",
   "mimetype": "text/x-python",
   "name": "python",
   "nbconvert_exporter": "python",
   "pygments_lexer": "ipython3",
   "version": "3.11.7"
  }
 },
 "nbformat": 4,
 "nbformat_minor": 2
}
