{
 "cells": [
  {
   "cell_type": "markdown",
   "metadata": {},
   "source": [
    "# Trees\n",
    "The data structure is called a \"tree\" because it looks like a tree, only upside down. <br>\n",
    "\n",
    "The tree data structure can be useful in many cases:\n",
    "* Hierarchical Data : File systems, organizational models, etc.\n",
    "* Databases : Used for quick data retrieval.\n",
    "* Routing Tabels : Used for routing data in network algorithms.\n",
    "* Sorting/Searching : Used for sorting data and searching for data.\n",
    "* Priorty Queues : Priority queue data structures are commonly implemented using trees, such as binary heaps."
   ]
  },
  {
   "cell_type": "markdown",
   "metadata": {},
   "source": [
    "Binary trees : A type of tree data structure where each node can have a maximum of two child nodes, a left child dode and a right child node."
   ]
  },
  {
   "cell_type": "code",
   "execution_count": 1,
   "metadata": {},
   "outputs": [],
   "source": [
    "class TreeNode:\n",
    "    def __init__(self, data):\n",
    "        self.data = data\n",
    "        self.left = None\n",
    "        self.right = None"
   ]
  },
  {
   "cell_type": "code",
   "execution_count": 2,
   "metadata": {},
   "outputs": [],
   "source": [
    "# Define the node for the tree\n",
    "root = TreeNode('R')\n",
    "nodeA = TreeNode('A')\n",
    "nodeB = TreeNode('B')\n",
    "nodeC = TreeNode('C')\n",
    "nodeD = TreeNode('D')\n",
    "nodeE = TreeNode('E')\n",
    "nodeF = TreeNode('F')\n",
    "nodeG = TreeNode('G')"
   ]
  },
  {
   "cell_type": "code",
   "execution_count": 3,
   "metadata": {},
   "outputs": [],
   "source": [
    "# Build the tree by Connecting the node \n",
    "## First layer\n",
    "root.left = nodeA\n",
    "root.right = nodeB\n",
    "\n",
    "## Second Layer\n",
    "nodeA.left = nodeC\n",
    "nodeA.right = nodeD\n",
    "\n",
    "nodeB.left = nodeE\n",
    "nodeB.right = nodeF\n",
    "\n",
    "# Third Layer\n",
    "nodeF.left = nodeG"
   ]
  },
  {
   "cell_type": "code",
   "execution_count": 4,
   "metadata": {},
   "outputs": [
    {
     "name": "stdout",
     "output_type": "stream",
     "text": [
      "root.right.left.data E\n"
     ]
    }
   ],
   "source": [
    "print(\"root.right.left.data\", root.right.left.data)"
   ]
  },
  {
   "cell_type": "markdown",
   "metadata": {},
   "source": [
    "# Binary Tree Traversal\n",
    "There are two main categories of Tree Traversal methods:\n",
    "* Breadth First Search (BFS) is when the nodes on the same level are visited before going to the next level in the tree. This means that the tree is explored in a more sideways direction.\n",
    "* Depth First Search (DFS) is when the traversal moves down the tree all the way to the leaf nodes, exploring the tree branch by branch in a downwards direction."
   ]
  },
  {
   "cell_type": "markdown",
   "metadata": {},
   "source": [
    "There are three different types of DFS traversal.\n",
    "* pre-order\n",
    "* in-order\n",
    "* post-order"
   ]
  },
  {
   "cell_type": "code",
   "execution_count": 5,
   "metadata": {},
   "outputs": [
    {
     "name": "stdout",
     "output_type": "stream",
     "text": [
      "R, A, C, D, B, E, F, G, "
     ]
    }
   ],
   "source": [
    "# DSA Pre-order Traversal\n",
    "def preOrderTraversal(node):\n",
    "    if node is None:\n",
    "        return\n",
    "    print(node.data, end=\", \")\n",
    "    preOrderTraversal(node.left)\n",
    "    preOrderTraversal(node.right)\n",
    "\n",
    "preOrderTraversal(root)"
   ]
  },
  {
   "cell_type": "code",
   "execution_count": 6,
   "metadata": {},
   "outputs": [
    {
     "name": "stdout",
     "output_type": "stream",
     "text": [
      "C, A, D, R, E, B, G, F, "
     ]
    }
   ],
   "source": [
    "# DSA In-order Traversal\n",
    "def inOrderTraversal(node):\n",
    "    if node == None:\n",
    "        return\n",
    "    inOrderTraversal(node.left)\n",
    "    print(node.data, end=\", \")\n",
    "    inOrderTraversal(node.right)\n",
    "\n",
    "inOrderTraversal(root)"
   ]
  },
  {
   "cell_type": "code",
   "execution_count": 7,
   "metadata": {},
   "outputs": [
    {
     "name": "stdout",
     "output_type": "stream",
     "text": [
      "C, D, A, E, G, F, B, R, "
     ]
    }
   ],
   "source": [
    "# DSA Post-order Traversal\n",
    "def postOrderTraversal(node):\n",
    "    if node == None:\n",
    "        return\n",
    "    postOrderTraversal(node.left)\n",
    "    postOrderTraversal(node.right)\n",
    "    print(node.data, end=\", \")\n",
    "\n",
    "postOrderTraversal(root)"
   ]
  },
  {
   "cell_type": "markdown",
   "metadata": {},
   "source": [
    "Array Implementation of Binary Tree <br>\n",
    "\n",
    "The binary tree can be stored in an Array starting with the root R on index 0. The rest of the tree can be built by taking a node stored on index i, and storing its left child node on index 2 * i + 1, and its right child node on index 2 * i + 2."
   ]
  },
  {
   "cell_type": "code",
   "execution_count": 8,
   "metadata": {},
   "outputs": [],
   "source": [
    "binary_tree_array = ['R', 'A', 'B', 'C', 'D', 'E', 'F', None, None, None, None, None, None, 'G']"
   ]
  },
  {
   "cell_type": "code",
   "execution_count": 9,
   "metadata": {},
   "outputs": [],
   "source": [
    "def left_child_index(index):\n",
    "    return 2 * index + 1\n",
    "\n",
    "def right_child_index(index):\n",
    "    return 2 * index + 2\n",
    "\n",
    "def get_data(index):\n",
    "    if 0 <= index < len(binary_tree_array):\n",
    "        return binary_tree_array[index]\n",
    "    return"
   ]
  },
  {
   "cell_type": "code",
   "execution_count": 10,
   "metadata": {},
   "outputs": [
    {
     "name": "stdout",
     "output_type": "stream",
     "text": [
      "root.right.left.data E\n"
     ]
    }
   ],
   "source": [
    "right_child = right_child_index(0)\n",
    "left_child_of_right_child = left_child_index(right_child)\n",
    "data = get_data(left_child_of_right_child)\n",
    "\n",
    "print('root.right.left.data', data)"
   ]
  },
  {
   "cell_type": "markdown",
   "metadata": {},
   "source": [
    "This is how the three different DFS traversals can be done on an Array implementation of a Binary Tree."
   ]
  },
  {
   "cell_type": "code",
   "execution_count": 11,
   "metadata": {},
   "outputs": [],
   "source": [
    "def pre_order(index):\n",
    "    if index >= len(binary_tree_array) or binary_tree_array[index] is None:\n",
    "        return []\n",
    "    return [binary_tree_array[index]] + pre_order(left_child_index(index)) + pre_order(right_child_index(index))\n",
    "\n",
    "def in_order(index):\n",
    "    if index >= len(binary_tree_array) or binary_tree_array[index] is None:\n",
    "        return []\n",
    "    return in_order(left_child_index(index)) + [binary_tree_array[index]] + in_order(right_child_index(index))\n",
    "\n",
    "def post_order(index):\n",
    "    if index >= len(binary_tree_array) or binary_tree_array[index] is None:\n",
    "        return []\n",
    "    return post_order(left_child_index(index)) + post_order(right_child_index(index)) + [binary_tree_array[index]]"
   ]
  },
  {
   "cell_type": "code",
   "execution_count": 12,
   "metadata": {},
   "outputs": [
    {
     "name": "stdout",
     "output_type": "stream",
     "text": [
      "Pre-Order Traversal:  ['R', 'A', 'C', 'D', 'B', 'E', 'F', 'G']\n",
      "In-Order Traversal:  ['C', 'A', 'D', 'R', 'E', 'B', 'G', 'F']\n",
      "Post-Order Traversal:  ['C', 'D', 'A', 'E', 'G', 'F', 'B', 'R']\n"
     ]
    }
   ],
   "source": [
    "print(\"Pre-Order Traversal: \", pre_order(0))\n",
    "print(\"In-Order Traversal: \", in_order(0))\n",
    "print(\"Post-Order Traversal: \", post_order(0))"
   ]
  }
 ],
 "metadata": {
  "kernelspec": {
   "display_name": "Python 3",
   "language": "python",
   "name": "python3"
  },
  "language_info": {
   "codemirror_mode": {
    "name": "ipython",
    "version": 3
   },
   "file_extension": ".py",
   "mimetype": "text/x-python",
   "name": "python",
   "nbconvert_exporter": "python",
   "pygments_lexer": "ipython3",
   "version": "3.11.7"
  }
 },
 "nbformat": 4,
 "nbformat_minor": 2
}
