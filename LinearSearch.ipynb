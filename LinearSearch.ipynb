{
 "cells": [
  {
   "cell_type": "code",
   "execution_count": 6,
   "metadata": {},
   "outputs": [
    {
     "name": "stdout",
     "output_type": "stream",
     "text": [
      "[4, 0, 6, 8, 3, 1, 2, 9, 5, 7]\n"
     ]
    }
   ],
   "source": [
    "import random\n",
    "\n",
    "randomArray = random.sample(range(0, 10), 10)\n",
    "\n",
    "print(randomArray)"
   ]
  },
  {
   "cell_type": "code",
   "execution_count": 7,
   "metadata": {},
   "outputs": [],
   "source": [
    "def linearSearch(array, value):\n",
    "    for i in range(len(array)):\n",
    "        if value == array[i]:\n",
    "            return i\n",
    "    \n",
    "    return -1"
   ]
  },
  {
   "cell_type": "code",
   "execution_count": 8,
   "metadata": {},
   "outputs": [
    {
     "name": "stdout",
     "output_type": "stream",
     "text": [
      "Value  10  is not founded !\n"
     ]
    }
   ],
   "source": [
    "targetValue = 10\n",
    "\n",
    "result = linearSearch(randomArray, targetValue)\n",
    "\n",
    "if result == -1:\n",
    "    print(\"Value \", targetValue, \" is not founded !\")\n",
    "else:\n",
    "    print(\"Value \", targetValue, \" is founded at \", result)"
   ]
  }
 ],
 "metadata": {
  "kernelspec": {
   "display_name": "Python 3",
   "language": "python",
   "name": "python3"
  },
  "language_info": {
   "codemirror_mode": {
    "name": "ipython",
    "version": 3
   },
   "file_extension": ".py",
   "mimetype": "text/x-python",
   "name": "python",
   "nbconvert_exporter": "python",
   "pygments_lexer": "ipython3",
   "version": "3.11.7"
  }
 },
 "nbformat": 4,
 "nbformat_minor": 2
}
