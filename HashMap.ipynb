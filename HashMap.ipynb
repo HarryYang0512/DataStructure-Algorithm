{
 "cells": [
  {
   "cell_type": "code",
   "execution_count": 1,
   "metadata": {},
   "outputs": [],
   "source": [
    "class SimpleHashMap:\n",
    "    def __init__(self, size):\n",
    "        self.size = size\n",
    "        self.buckets = [[] for _ in range(size)]\n",
    "    \n",
    "    def hash_function(self, key):\n",
    "        numeric_sum = sum(int(char) for char in key if char.isdigit())\n",
    "        return numeric_sum % 10\n",
    "    \n",
    "    def put(self, key , value):\n",
    "        index = self.hash_function(key)\n",
    "        bucket = self.buckets[index]\n",
    "        for i, (k, v) in enumerate(bucket):\n",
    "            if k == key:\n",
    "                bucket[i] = (key, value)\n",
    "                return\n",
    "        bucket.append((key, value))\n",
    "\n",
    "    def get(self, key):\n",
    "        index = self.hash_function(key)\n",
    "        bucket = self.buckets[index]\n",
    "        for k, v in bucket:\n",
    "            if k == key:\n",
    "                return v\n",
    "        return None\n",
    "    \n",
    "    def remove(self, key):\n",
    "        index = self.hash_function(key)\n",
    "        bucket = self.buckets[index]\n",
    "        for i, (k, v) in enumerate(bucket):\n",
    "            if k == key:\n",
    "                del bucket[i]\n",
    "                return\n",
    "\n",
    "    def print_map(self):\n",
    "        print(\"Hash Map Conents:\")\n",
    "        for index, bucket in enumerate(self.buckets):\n",
    "            print(f\"Bucket {index} : {bucket}\")"
   ]
  },
  {
   "cell_type": "code",
   "execution_count": 2,
   "metadata": {},
   "outputs": [
    {
     "name": "stdout",
     "output_type": "stream",
     "text": [
      "\n",
      "Name associated with '123-4570': Peter\n",
      "Updating the name for '123-4570' to 'James'\n",
      "Name associated with '123-4570': James\n"
     ]
    }
   ],
   "source": [
    "hash_map = SimpleHashMap(size = 10)\n",
    "\n",
    "hash_map.put(\"123-4567\", \"Charlotte\")\n",
    "hash_map.put(\"123-4568\", \"Thomas\")\n",
    "hash_map.put(\"123-4569\", \"Jens\")\n",
    "hash_map.put(\"123-4570\", \"Peter\")\n",
    "hash_map.put(\"123-4571\", \"Lisa\")\n",
    "hash_map.put(\"123-4572\", \"Adele\")\n",
    "hash_map.put(\"123-4573\", \"Michela\")\n",
    "hash_map.put(\"123-4574\", \"Bob\")\n",
    "\n",
    "print(\"\\nName associated with '123-4570':\", hash_map.get(\"123-4570\"))\n",
    "\n",
    "print(\"Updating the name for '123-4570' to 'James'\")\n",
    "hash_map.put(\"123-4570\", \"James\")\n",
    "\n",
    "print(\"Name associated with '123-4570':\", hash_map.get(\"123-4570\"))"
   ]
  }
 ],
 "metadata": {
  "kernelspec": {
   "display_name": "Python 3",
   "language": "python",
   "name": "python3"
  },
  "language_info": {
   "codemirror_mode": {
    "name": "ipython",
    "version": 3
   },
   "file_extension": ".py",
   "mimetype": "text/x-python",
   "name": "python",
   "nbconvert_exporter": "python",
   "pygments_lexer": "ipython3",
   "version": "3.11.7"
  }
 },
 "nbformat": 4,
 "nbformat_minor": 2
}
