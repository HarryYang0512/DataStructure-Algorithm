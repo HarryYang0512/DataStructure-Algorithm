{
 "cells": [
  {
   "cell_type": "markdown",
   "metadata": {},
   "source": [
    "Define the array and random array"
   ]
  },
  {
   "cell_type": "code",
   "execution_count": 25,
   "metadata": {},
   "outputs": [],
   "source": [
    "import random"
   ]
  },
  {
   "cell_type": "code",
   "execution_count": 26,
   "metadata": {},
   "outputs": [
    {
     "name": "stdout",
     "output_type": "stream",
     "text": [
      "[2, 4, 1, 19, 13, 10]\n",
      "[14, 16, 17, 7, 19, 16]\n"
     ]
    }
   ],
   "source": [
    "my_array = [ 2, 4, 1, 19, 13, 10]\n",
    "random_array = []\n",
    "\n",
    "for i in range(6):\n",
    "    value = random.randint(1, 20)\n",
    "    random_array.append(value)\n",
    "\n",
    "print(my_array)\n",
    "print(random_array)"
   ]
  },
  {
   "cell_type": "code",
   "execution_count": 27,
   "metadata": {},
   "outputs": [
    {
     "name": "stdout",
     "output_type": "stream",
     "text": [
      "[1, 2, 4, 10, 13, 19]\n"
     ]
    }
   ],
   "source": [
    "for i in range(len(my_array) - 1):\n",
    "    swapped = False\n",
    "    for j in range(len(my_array) - i - 1):\n",
    "        if my_array[j] > my_array[j + 1]:\n",
    "            my_array[j], my_array[j + 1] = my_array[j + 1], my_array[j]\n",
    "            swapped = True\n",
    "    \n",
    "    if not swapped:\n",
    "        break\n",
    "\n",
    "print(my_array)"
   ]
  },
  {
   "cell_type": "code",
   "execution_count": 28,
   "metadata": {},
   "outputs": [
    {
     "name": "stdout",
     "output_type": "stream",
     "text": [
      "[7, 14, 16, 16, 17, 19]\n"
     ]
    }
   ],
   "source": [
    "for i in range(len(random_array) - 1):\n",
    "    swapped = False\n",
    "    for j in range(len(random_array) - i - 1):\n",
    "        if random_array[j] > random_array[j + 1]:\n",
    "            random_array[j], random_array[j + 1] = random_array[j + 1], random_array[j]\n",
    "            swapped = True\n",
    "    \n",
    "    if not swapped:\n",
    "        break\n",
    "    \n",
    "print(random_array)"
   ]
  }
 ],
 "metadata": {
  "kernelspec": {
   "display_name": "Python 3",
   "language": "python",
   "name": "python3"
  },
  "language_info": {
   "codemirror_mode": {
    "name": "ipython",
    "version": 3
   },
   "file_extension": ".py",
   "mimetype": "text/x-python",
   "name": "python",
   "nbconvert_exporter": "python",
   "pygments_lexer": "ipython3",
   "version": "3.11.7"
  }
 },
 "nbformat": 4,
 "nbformat_minor": 2
}
